{
 "cells": [
  {
   "cell_type": "markdown",
   "metadata": {},
   "source": [
    "# Stellar surface area occulted by transits of HAT-P-11 b\n",
    "\n",
    "Below I show the actual transit chord of HAT-P-11 b across its host star using my best-fit transit parameters. "
   ]
  },
  {
   "cell_type": "code",
   "execution_count": 78,
   "metadata": {
    "collapsed": false
   },
   "outputs": [
    {
     "data": {
      "image/png": "[encoded data removed]",
      "text/plain": [
       "<matplotlib.figure.Figure at 0x10bdb0dd8>"
      ]
     },
     "metadata": {},
     "output_type": "display_data"
    }
   ],
   "source": [
    "%matplotlib inline\n",
    "import numpy as np\n",
    "import matplotlib.pyplot as plt\n",
    "\n",
    "# Import dev version of friedrich:\n",
    "import sys\n",
    "sys.path.insert(0, '../')\n",
    "from friedrich.lightcurve import hat11_params_morris\n",
    "from friedrich.orientation import planet_position_cartesian\n",
    "\n",
    "transit_params = hat11_params_morris()\n",
    "start = 0.5\n",
    "n_times = 1000\n",
    "interp_duration = 0.005 # fraction of full transit duration\n",
    "times1 = np.linspace(transit_params.t0 - transit_params.duration/2 - interp_duration, \n",
    "                     transit_params.t0 - transit_params.duration/2 + interp_duration, n_times)\n",
    "times2 = np.linspace(transit_params.t0 + transit_params.duration/2 - interp_duration, \n",
    "                     transit_params.t0 + transit_params.duration/2 + interp_duration, n_times)\n",
    "\n",
    "times = np.concatenate([times1, times2])\n",
    "\n",
    "x_center, y_center, z_center = planet_position_cartesian(times, transit_params)\n",
    "\n",
    "y_plus = y_center + transit_params.rp\n",
    "y_minus = y_center - transit_params.rp\n",
    "\n",
    "theta = np.linspace(0, 2*np.pi, 50)\n",
    "\n",
    "fig, ax = plt.subplots(figsize=(10,10))\n",
    "ax.plot(np.cos(theta), np.sin(theta), color='k')\n",
    "ax.plot(x_center, y_center, color='r')\n",
    "#ax.scatter(x, y)\n",
    "ax.fill_between(x_center, y_minus, y_plus, color='k', alpha=0.3)\n",
    "ax.set_xlabel('$x$')\n",
    "ax.set_ylabel('$y$')\n",
    "ax.set_aspect('equal')"
   ]
  },
  {
   "cell_type": "markdown",
   "metadata": {},
   "source": [
    "To first order the planet occults a solid band of latitudes in sky-projected coordinates, if we neglect the orbital eccentricity and inclination. Here we're not concerned with the latitudes and longitudes on the stellar surface with respect to the stellar rotation axis, so I refer to latitudes as bands on the stellar surface parallel with the sky-projected x axis. \n",
    "\n",
    "The limb of the star is defined by the unit circle in sky coordinates\n",
    "$$ x^2 + y^2 = 1 .$$\n",
    "The cross-sectional radius of the star $\\rho$ at a given $y$ is \n",
    "$$ \\rho(y) = \\sqrt{1 - y^2}.$$\n",
    "$$ \\rho^\\prime(y) = y(1 - y^2)^{-1/2}$$\n",
    "The circumference of the star $C$ at a given $y$ is \n",
    "$$ C(y) = 2\\pi\\rho(y). $$\n",
    "\n",
    "We can find the surface area of segments of the star by using the surface of revolution defined by revolving a function $f(y)$ (in this case the unit circle) around the $y$ axis, which has solutions of the form  ([see derivation](http://mathworld.wolfram.com/SurfaceofRevolution.html))\n",
    "$$ A =  \\int 2 \\pi f(y) \\sqrt{ 1 + f^\\prime(y)^2  } ~dy. $$\n",
    "\n",
    "The transit chord approximately extends in $y$ from $b - R_p/R_s$ to $b + R_p/R_s$, and covers only the hemisphere of the star that is visible to the observer (50% of the total area), so the surface area of the star below the transit chord is:\n",
    "$$ A = \\int_{b - R_p/R_s}^{b + R_p/R_s} \\frac{1}{2} ~ 2\\pi \\rho(y) \\sqrt{ 1 + \\rho^\\prime(y)^2  } ~dy ~~=~~ \\int_{b - R_p/R_s}^{b + R_p/R_s} \\pi \\rho(y) \\sqrt{ 1 + \\rho^\\prime(y)^2} ~dy, $$\n",
    "\n",
    "which we can solve numerically:"
   ]
  },
  {
   "cell_type": "code",
   "execution_count": 111,
   "metadata": {
    "collapsed": false
   },
   "outputs": [
    {
     "name": "stdout",
     "output_type": "stream",
     "text": [
      "Fractional surface area occulted by one transit of HAT-P-11b: 0.029165152662331592\n",
      "Assuming no overlap, 14.6% of the stellar surface is occulted per stellar rotation (5 transits)\n"
     ]
    }
   ],
   "source": [
    "from scipy.integrate import quad\n",
    "\n",
    "def rho(y):\n",
    "    \"\"\"Radius at a given latitude (latitude = y)\"\"\"\n",
    "    return np.sqrt(1 - y**2)\n",
    "\n",
    "def rho_prime(y):\n",
    "    \"\"\"d(rho)/dy\"\"\"\n",
    "    return y / np.sqrt(1 - y**2)\n",
    "\n",
    "def integrand(y):\n",
    "    return np.pi * rho(y) * np.sqrt(1 + rho_prime(y)**2)\n",
    "\n",
    "y_lower_bound = transit_params.b - transit_params.rp\n",
    "y_upper_bound = transit_params.b + transit_params.rp\n",
    "\n",
    "# Integrate the integrand function from y_lower_bound to y_upper_bound:\n",
    "surface_area = quad(integrand, y_lower_bound, y_upper_bound)[0]\n",
    "fractional_surface_area = surface_area/(4*np.pi)\n",
    "print(\"Fractional surface area occulted by one transit of HAT-P-11b: {0}\"\n",
    "      .format(fractional_surface_area))\n",
    "\n",
    "n_transits = 5\n",
    "print(\"Assuming no overlap, {0:.1f}% of the stellar surface is occulted per stellar rotation ({1} transits)\"\n",
    "      .format(n_transits*fractional_surface_area*100, n_transits))"
   ]
  },
  {
   "cell_type": "markdown",
   "metadata": {},
   "source": [
    "### Sanity checks\n",
    "\n",
    "If the entire visible hemisphere of the star is occulted, we can expect half of the stellar surface area to be occulted: "
   ]
  },
  {
   "cell_type": "code",
   "execution_count": 112,
   "metadata": {
    "collapsed": false
   },
   "outputs": [
    {
     "name": "stdout",
     "output_type": "stream",
     "text": [
      "fractional surface area occulted: 0.5\n"
     ]
    }
   ],
   "source": [
    "y_lower_bound = -1\n",
    "y_upper_bound = 1\n",
    "\n",
    "surface_area = quad(integrand, y_lower_bound, y_upper_bound)[0]\n",
    "print(\"fractional surface area occulted: {0}\".format(surface_area/(4*np.pi)))"
   ]
  },
  {
   "cell_type": "markdown",
   "metadata": {},
   "source": [
    "If the top half of the visible hemisphere is occulted, we can expect one quarater of the surface area to be occulted: "
   ]
  },
  {
   "cell_type": "code",
   "execution_count": 113,
   "metadata": {
    "collapsed": false
   },
   "outputs": [
    {
     "name": "stdout",
     "output_type": "stream",
     "text": [
      "fractional surface area occulted: 0.25\n"
     ]
    }
   ],
   "source": [
    "y_lower_bound = 0\n",
    "y_upper_bound = 1\n",
    "\n",
    "surface_area = quad(integrand, y_lower_bound, y_upper_bound)[0]\n",
    "print(\"fractional surface area occulted: {0}\".format(surface_area/(4*np.pi)))"
   ]
  },
  {
   "cell_type": "code",
   "execution_count": null,
   "metadata": {
    "collapsed": true
   },
   "outputs": [],
   "source": []
  }
 ],
 "metadata": {
  "kernelspec": {
   "display_name": "Python 3",
   "language": "python",
   "name": "python3"
  },
  "language_info": {
   "codemirror_mode": {
    "name": "ipython",
    "version": 3
   },
   "file_extension": ".py",
   "mimetype": "text/x-python",
   "name": "python",
   "nbconvert_exporter": "python",
   "pygments_lexer": "ipython3",
   "version": "3.5.1"
  }
 },
 "nbformat": 4,
 "nbformat_minor": 0
}
