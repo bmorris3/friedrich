{
 "cells": [
  {
   "cell_type": "markdown",
   "metadata": {},
   "source": [
    "# Probablistic model for spot latitude distribution\n",
    "\n",
    "Load spots properties from `friedrich`:"
   ]
  },
  {
   "cell_type": "code",
   "execution_count": 1,
   "metadata": {
    "collapsed": false
   },
   "outputs": [
    {
     "name": "stdout",
     "output_type": "stream",
     "text": [
      "load results\n"
     ]
    }
   ],
   "source": [
    "%matplotlib inline\n",
    "# Import dev version of friedrich:\n",
    "import sys\n",
    "sys.path.insert(0, '../')\n",
    "\n",
    "import numpy as np\n",
    "import matplotlib.pyplot as plt\n",
    "from friedrich.analysis import Transit, Spot, Measurement, MCMCResults\n",
    "from friedrich.lightcurve import hat11_params_morris_flip_lambda\n",
    "from glob import glob\n",
    "\n",
    "archive_paths = sorted(glob('/local/tmp/friedrich/hat11_flip_lambda/chains???.hdf5'))\n",
    "#archive_paths = sorted(glob('/local/tmp/friedrich/hat11_init/chains???.hdf5'))\n",
    "print('load results')\n",
    "transits = []\n",
    "all_times = []\n",
    "for archive_path in archive_paths:\n",
    "    m = MCMCResults(archive_path, hat11_params_morris_flip_lambda())\n",
    "    all_times.extend(m.lc.times.jd)\n",
    "    spots = m.get_spots()\n",
    "    transits.append(Transit(spots))\n"
   ]
  },
  {
   "cell_type": "code",
   "execution_count": 2,
   "metadata": {
    "collapsed": true
   },
   "outputs": [],
   "source": [
    "from friedrich.orientation import times_to_occulted_lat_lon\n",
    "from friedrich.lightcurve import hat11_params_morris_flip_lambda\n",
    "\n",
    "transit_params = hat11_params_morris_flip_lambda()\n",
    "all_lats = []\n",
    "all_lons = []\n",
    "all_amps = []\n",
    "all_lats_errors = []\n",
    "all_spot_times = []\n",
    "all_BICs = []\n",
    "for transit in transits:\n",
    "    for spot in transit.spots: \n",
    "        latitude, longitude = times_to_occulted_lat_lon(np.array([spot.t0.value]), \n",
    "                                                        transit_params)\n",
    "        all_lats.append(latitude)\n",
    "        all_lons.append(longitude)\n",
    "        all_amps.append(spot.amplitude.value)\n",
    "        all_spot_times.append(spot.t0.value)\n",
    "        all_BICs.append(spot.delta_BIC)\n",
    "        all_lats_errors.append(np.mean([spot.amplitude.upper, spot.amplitude.lower]))\n",
    "all_lats = np.array(all_lats)\n",
    "all_lats_errors = np.array(all_lats_errors)\n",
    "all_lons = np.array(all_lons)\n",
    "all_amps = np.array(all_amps)\n",
    "all_spot_times = np.array(all_spot_times)\n",
    "all_BICs = np.array(all_BICs)"
   ]
  },
  {
   "cell_type": "code",
   "execution_count": 3,
   "metadata": {
    "collapsed": false
   },
   "outputs": [
    {
     "data": {
      "text/plain": [
       "<matplotlib.text.Text at 0x7f761ef1aef0>"
      ]
     },
     "execution_count": 3,
     "metadata": {},
     "output_type": "execute_result"
    },
    {
     "data": {
      "image/png": "[encoded data removed]",
      "text/plain": [
       "<matplotlib.figure.Figure at 0x7f7618450ef0>"
      ]
     },
     "metadata": {},
     "output_type": "display_data"
    }
   ],
   "source": [
    "#all_amps\n",
    "# plt.plot_date(Time(all_spot_times[all_BICs > 10], format='jd').plot_date, \n",
    "#               np.degrees(all_lats[all_BICs > 10]), '.')\n",
    "from astropy.time import Time\n",
    "\n",
    "n_panels = 4\n",
    "import matplotlib.gridspec as gridspec\n",
    "fig = plt.figure(figsize=(14, 8))\n",
    "gs = gridspec.GridSpec(2, 4)\n",
    "ax0 = plt.subplot(gs[0, :])\n",
    "ax1 = [plt.subplot(gs[1, i]) for i in range(n_panels)]\n",
    "\n",
    "#fig, ax = plt.subplots(1, n_panels, figsize=(14, 3))\n",
    "first_spot = all_spot_times[all_BICs > 10].min()\n",
    "last_spot = all_spot_times[all_BICs > 10].max()\n",
    "first_to_last = last_spot - first_spot\n",
    "fraction_gt_median = np.zeros(n_panels)\n",
    "\n",
    "ax0.plot_date(Time(all_spot_times[all_BICs > 10], format='jd').plot_date, \n",
    "              np.degrees(all_lats[all_BICs > 10]), '.')\n",
    "\n",
    "for i in range(n_panels):\n",
    "    extent = [-60, 60]\n",
    "    within_time_bin = ((all_spot_times[all_BICs > 10] - first_spot > \n",
    "                        i/n_panels*first_to_last) & \n",
    "                       (all_spot_times[all_BICs > 10] - first_spot < \n",
    "                        (i+1)/n_panels*first_to_last))\n",
    "    lats_in_time_bin = np.degrees(all_lats[all_BICs > 10][within_time_bin])\n",
    "    ax1[i].hist(lats_in_time_bin, 30, range=extent)\n",
    "\n",
    "    ax1[i].hist(np.degrees(all_lats[all_BICs > 10]), 30,\n",
    "                range=extent, alpha=0.2, color='k', zorder=10)\n",
    "\n",
    "    ax1[i].set_xlim(extent)\n",
    "    \n",
    "    ax1[i].set(title='Segment {0}'.format(i))\n",
    "    \n",
    "    if i == 0:\n",
    "        segment_zero_mean = np.median(lats_in_time_bin)\n",
    "    fraction_gt_median[i] = np.count_nonzero(lats_in_time_bin > segment_zero_mean)/len(lats_in_time_bin)\n",
    "\n",
    "ax1[0].set_ylabel('Frequency')\n",
    "ax0.set_ylabel('Latitude [deg]')\n",
    "\n",
    "fig.text(0.5, 0.05, 'Latitude [deg]', ha='center', fontsize=14)\n",
    "\n",
    "#fig.subplots_adjust()"
   ]
  },
  {
   "cell_type": "code",
   "execution_count": 4,
   "metadata": {
    "collapsed": false
   },
   "outputs": [],
   "source": [
    "ignore_high_latitudes = ((all_lats > np.radians(-40)) & (all_lats < np.radians(50)))\n",
    "significance_cutoff = np.atleast_2d(all_BICs > 10).T\n",
    "significant_latitudes = np.degrees(all_lats[significance_cutoff & ignore_high_latitudes])\n",
    "significant_times = np.atleast_2d(all_spot_times).T[significance_cutoff & ignore_high_latitudes]\n",
    "significant_amps = np.atleast_2d(all_amps).T[significance_cutoff & ignore_high_latitudes]\n",
    "significant_latitudes_errors = np.ones_like(significant_latitudes) * 5"
   ]
  },
  {
   "cell_type": "markdown",
   "metadata": {},
   "source": [
    "# Gaussian mixture model with scikit-learn\n",
    "\n",
    "Note that it is not well physically motivated to model the distribution as three gaussians, because while it may be a good approximation to model the active latitudes with Gaussians, the perhaps uniform background of spots distributed isotropically on the surface of the star would be modeled with a cosine function.  "
   ]
  },
  {
   "cell_type": "code",
   "execution_count": 5,
   "metadata": {
    "collapsed": false
   },
   "outputs": [
    {
     "data": {
      "text/plain": [
       "<matplotlib.text.Text at 0x7f76183df9b0>"
      ]
     },
     "execution_count": 5,
     "metadata": {},
     "output_type": "execute_result"
    },
    {
     "data": {
      "image/png": "[encoded data removed]",
      "text/plain": [
       "<matplotlib.figure.Figure at 0x7f761845acc0>"
      ]
     },
     "metadata": {},
     "output_type": "display_data"
    }
   ],
   "source": [
    "from sklearn.mixture import GMM\n",
    "\n",
    "X = np.atleast_2d(significant_latitudes).T\n",
    "\n",
    "fig, ax = plt.subplots()\n",
    "M_best = GMM(2).fit(X)#models[np.argmin(AIC)]\n",
    "\n",
    "x = np.atleast_2d(np.linspace(-60, 60, 1000)).T\n",
    "# logprob, responsibilities = M_best.eval(x)\n",
    "logprob = M_best.score(x)\n",
    "responsibilities = M_best.predict_proba(x)\n",
    "\n",
    "pdf = np.exp(logprob)\n",
    "pdf_individual = responsibilities * pdf[:, np.newaxis]\n",
    "\n",
    "ax.hist(X, 30, normed=True, histtype='stepfilled', alpha=0.4)\n",
    "ax.plot(x, pdf, '-k')\n",
    "ax.plot(x, pdf_individual, '--k')\n",
    "ax.text(0.04, 0.96, \"Best-fit Mixture\",\n",
    "        ha='left', va='top', transform=ax.transAxes)\n",
    "ax.set_xlabel('$x$')\n",
    "ax.set_ylabel('$p(x)$')"
   ]
  },
  {
   "cell_type": "markdown",
   "metadata": {},
   "source": [
    "# Modified Gaussian Mixture Model with `emcee`\n",
    "\n",
    "...with a cosine-bias centered on the stellar equator."
   ]
  },
  {
   "cell_type": "code",
   "execution_count": 6,
   "metadata": {
    "collapsed": true
   },
   "outputs": [],
   "source": [
    "import emcee\n",
    "from scipy.misc import logsumexp\n",
    "\n",
    "def gaussian(x, mean, lnvar, amp):\n",
    "    var = np.exp(lnvar)\n",
    "    return amp/np.sqrt(2*np.pi*var) * np.exp(-0.5 * (x - mean)**2 / var)\n",
    "\n",
    "def lnlikelihood_gaussian(x, yerr, mean, lnvar, amp):\n",
    "    var = np.exp(lnvar) + yerr**2\n",
    "#     return  -0.5 * (x - mean)**2 / var - 0.5 * np.log(2*np.pi*var) + np.log(amp)\n",
    "    return  -0.5 * ((x - mean)**2 / var + np.log(var)) + np.log(amp)\n",
    "\n",
    "def lnlikelihood_sum_gaussians(parameters, x, yerr):\n",
    "    a1, mean_latitude, lnv1, lnv2, new_i_s = parameters\n",
    "    a2 = 1 - a1\n",
    "    delta_i_s = transit_params.inc_stellar - new_i_s\n",
    "    l1 = mean_latitude - delta_i_s\n",
    "    l2 = -mean_latitude - delta_i_s\n",
    "\n",
    "    ln_likes = (lnlikelihood_gaussian(x, yerr, l1, lnv1, a1),\n",
    "                lnlikelihood_gaussian(x, yerr, l2, lnv2, a2))\n",
    "    return np.sum(np.logaddexp.reduce(ln_likes)), ln_likes\n",
    "\n",
    "def minimize_this(parameters, x, yerr):\n",
    "    return -1*lnlikelihood_sum_gaussians(parameters, x, yerr)\n",
    "\n",
    "def model(parameters, x):\n",
    "    a1, mean_latitude, lnv1, lnv2, new_i_s = parameters\n",
    "    a2 = 1 - a1\n",
    "    delta_i_s = transit_params.inc_stellar - new_i_s\n",
    "    l1 = mean_latitude - delta_i_s\n",
    "    l2 = -mean_latitude - delta_i_s\n",
    "    return (gaussian(x, l1, lnv1, a1) + gaussian(x, l2, lnv2, a2))\n",
    "\n",
    "def lnprior(parameters):\n",
    "    a1, mean_latitude, lnv1, lnv2, new_i_s = parameters\n",
    "    v1, v2 = np.exp([lnv1, lnv2])\n",
    "    if (mean_latitude > 0 and 0 < new_i_s < 90 and v1 > 0 and v2 > 0 and 0 < a1 < 1):\n",
    "        return 0.0\n",
    "    return -np.inf\n",
    "\n",
    "def lnprob(parameters, x, yerr):\n",
    "    lp = lnprior(parameters)\n",
    "    if not np.isfinite(lp):\n",
    "        return -np.inf, None\n",
    "    lnlike, blobs = lnlikelihood_sum_gaussians(parameters, x, yerr)\n",
    "    return lp + lnlike, blobs"
   ]
  },
  {
   "cell_type": "code",
   "execution_count": 7,
   "metadata": {
    "collapsed": false
   },
   "outputs": [
    {
     "ename": "NameError",
     "evalue": "name 'bestp' is not defined",
     "output_type": "error",
     "traceback": [
      "\u001b[1;31m---------------------------------------------------------------------------\u001b[0m",
      "\u001b[1;31mNameError\u001b[0m                                 Traceback (most recent call last)",
      "\u001b[1;32m<ipython-input-7-a38757238bec>\u001b[0m in \u001b[0;36m<module>\u001b[1;34m()\u001b[0m\n\u001b[0;32m      7\u001b[0m \u001b[0mplt\u001b[0m\u001b[1;33m.\u001b[0m\u001b[0mxlabel\u001b[0m\u001b[1;33m(\u001b[0m\u001b[1;34m'Latitude $\\ell$ [deg]'\u001b[0m\u001b[1;33m,\u001b[0m \u001b[0mfontsize\u001b[0m\u001b[1;33m=\u001b[0m\u001b[1;36m15\u001b[0m\u001b[1;33m)\u001b[0m\u001b[1;33m\u001b[0m\u001b[0m\n\u001b[0;32m      8\u001b[0m \u001b[0mplt\u001b[0m\u001b[1;33m.\u001b[0m\u001b[0mylabel\u001b[0m\u001b[1;33m(\u001b[0m\u001b[1;34m'$p(\\ell)$'\u001b[0m\u001b[1;33m,\u001b[0m \u001b[0mfontsize\u001b[0m\u001b[1;33m=\u001b[0m\u001b[1;36m18\u001b[0m\u001b[1;33m)\u001b[0m\u001b[1;33m\u001b[0m\u001b[0m\n\u001b[1;32m----> 9\u001b[1;33m \u001b[0mprint\u001b[0m\u001b[1;33m(\u001b[0m\u001b[0mbestp\u001b[0m\u001b[1;33m)\u001b[0m\u001b[1;33m\u001b[0m\u001b[0m\n\u001b[0m",
      "\u001b[1;31mNameError\u001b[0m: name 'bestp' is not defined"
     ]
    },
    {
     "data": {
      "image/png": "[encoded data removed]",
      "text/plain": [
       "<matplotlib.figure.Figure at 0x7f7617eb62e8>"
      ]
     },
     "metadata": {},
     "output_type": "display_data"
    }
   ],
   "source": [
    "initp = [0.4, 19, np.log(8**2), np.log(8**2), 80]\n",
    "\n",
    "plt.hist(significant_latitudes, 30, normed=True, alpha=0.2)\n",
    "test_lats = np.linspace(-60, 60)\n",
    "plt.plot(test_lats, model(initp, test_lats), label='Initial parameters')\n",
    "plt.legend(loc='upper left')\n",
    "plt.xlabel('Latitude $\\ell$ [deg]', fontsize=15)\n",
    "plt.ylabel('$p(\\ell)$', fontsize=18)\n",
    "print(bestp)"
   ]
  },
  {
   "cell_type": "code",
   "execution_count": null,
   "metadata": {
    "collapsed": false
   },
   "outputs": [],
   "source": [
    "ndim, nwalkers = len(initp), 4*len(initp)\n",
    "p0 = [np.array(initp) + 1e-3*np.random.randn(ndim) for i in range(nwalkers)]\n",
    "sampler = emcee.EnsembleSampler(nwalkers, ndim, lnprob, \n",
    "                                args=(significant_latitudes, significant_latitudes_errors),\n",
    "                                threads=4)\n",
    "\n",
    "pos = sampler.run_mcmc(p0, 500)[0]\n",
    "samples = sampler.run_mcmc(pos, 5000)"
   ]
  },
  {
   "cell_type": "code",
   "execution_count": null,
   "metadata": {
    "collapsed": false
   },
   "outputs": [],
   "source": [
    "burnin = 1000\n",
    "samples = sampler.chain[:, burnin:, :].reshape((-1, ndim))\n",
    "\n",
    "bestp = np.median(samples, axis=0)\n",
    "\n",
    "plt.hist(significant_latitudes, 30, normed=True, alpha=0.2)\n",
    "test_lats = np.linspace(-60, 60)\n",
    "plt.plot(test_lats, model(initp, test_lats), label='Initial parameters')\n",
    "plt.plot(test_lats, model(bestp, test_lats), lw=2, label='Best-fit model')\n",
    "plt.legend(loc='upper left')\n",
    "plt.xlabel('Latitude $\\ell$ [deg]', fontsize=15)\n",
    "plt.ylabel('$p(\\ell)$', fontsize=18)\n",
    "print(bestp)"
   ]
  },
  {
   "cell_type": "code",
   "execution_count": null,
   "metadata": {
    "collapsed": false
   },
   "outputs": [],
   "source": [
    "import corner \n",
    "\n",
    "# a1, m1, v1, a2, m2, v2\n",
    "labels = \"a1, mean_latitude, lnv1, lnv2, new_i_s\".split(', ')\n",
    "fig = corner.corner(samples, labels=labels)"
   ]
  },
  {
   "cell_type": "code",
   "execution_count": null,
   "metadata": {
    "collapsed": false
   },
   "outputs": [],
   "source": [
    "\n",
    "delta_i_s = transit_params.inc_stellar - bestp[4]\n",
    "l1 = bestp[1] - delta_i_s\n",
    "l2 = -bestp[1] - delta_i_s\n",
    "components = np.array([gaussian(test_lats, l1, bestp[2], bestp[0]), \n",
    "                       gaussian(test_lats, l2, bestp[3], 1-bestp[0])]).T\n",
    "\n",
    "plt.hist(significant_latitudes, 30, normed=True, \n",
    "         alpha=0.5, histtype='stepfilled', color='k')\n",
    "\n",
    "plt.title('Model components')\n",
    "plt.plot(test_lats, components, lw=2)\n",
    "plt.plot(test_lats, model(bestp, test_lats), ls='--', lw=2)\n",
    "plt.legend(loc='upper left')\n",
    "plt.xlabel('Latitude $\\ell$ [deg]', fontsize=15)\n",
    "plt.ylabel('$p(\\ell)$', fontsize=18)\n",
    "plt.show()"
   ]
  },
  {
   "cell_type": "code",
   "execution_count": null,
   "metadata": {
    "collapsed": false
   },
   "outputs": [],
   "source": [
    "print(\"mean latitudes: {0}\".format(bestp[1]))\n",
    "print(\"i_s: {0}\".format(bestp[4]))"
   ]
  },
  {
   "cell_type": "markdown",
   "metadata": {},
   "source": [
    "***\n",
    "\n",
    "Draw from this distribution: "
   ]
  },
  {
   "cell_type": "code",
   "execution_count": null,
   "metadata": {
    "collapsed": false
   },
   "outputs": [],
   "source": [
    "cdf = np.cumsum(model(bestp, test_lats))\n",
    "cdf /= np.max(cdf)\n",
    "\n",
    "pred_lat = lambda x: np.interp(x, cdf, test_lats)\n",
    "\n",
    "plt.plot(test_lats, cdf)"
   ]
  },
  {
   "cell_type": "code",
   "execution_count": null,
   "metadata": {
    "collapsed": false
   },
   "outputs": [],
   "source": [
    "plt.hist(pred_lat(np.random.rand(1000)), 30);"
   ]
  },
  {
   "cell_type": "markdown",
   "metadata": {},
   "source": [
    "*** \n",
    "\n",
    "calculate probability of being in either latitude: "
   ]
  },
  {
   "cell_type": "code",
   "execution_count": null,
   "metadata": {
    "collapsed": false
   },
   "outputs": [],
   "source": [
    "norm = 0.0\n",
    "post_prob_g1 = np.zeros(len(significant_latitudes))\n",
    "post_prob_g2 = np.zeros(len(significant_latitudes))\n",
    "for i in range(sampler.chain.shape[1]):\n",
    "    for j in range(sampler.chain.shape[2]):\n",
    "        like_g1, like_g2 = sampler.blobs[i][j]\n",
    "        post_prob_g1 += np.exp(like_g1 - np.logaddexp(like_g1, like_g2))\n",
    "        post_prob_g2 += np.exp(like_g2 - np.logaddexp(like_g1, like_g2))\n",
    "        norm += 1\n",
    "post_prob_g1 /= norm\n",
    "post_prob_g2 /= norm"
   ]
  },
  {
   "cell_type": "code",
   "execution_count": null,
   "metadata": {
    "collapsed": false
   },
   "outputs": [],
   "source": [
    "fig, ax = plt.subplots(1, 2, figsize=(14, 6))\n",
    "ax[0].plot_date(Time(significant_times, format='jd').plot_date, \n",
    "             significant_latitudes, 'ko', alpha=0.4)\n",
    "\n",
    "\n",
    "likely_g1 = post_prob_g1 > 0.95\n",
    "likely_g2 = post_prob_g2 > 0.95\n",
    "\n",
    "ax[0].plot_date(Time(significant_times[likely_g1], format='jd').plot_date, \n",
    "             significant_latitudes[likely_g1], 'ro')\n",
    "ax[0].plot_date(Time(significant_times[likely_g2], format='jd').plot_date, \n",
    "             significant_latitudes[likely_g2], 'bo')\n",
    "ax[0].grid()\n",
    "for l in ax[0].get_xticklabels():\n",
    "    l.set_rotation(45)\n",
    "    l.set_ha('right')\n",
    "\n",
    "ax[1].hist(significant_amps[likely_g2], 20, histtype='stepfilled', \n",
    "           color='b', alpha=0.5, label='South')\n",
    "\n",
    "ax[1].hist(significant_amps[likely_g1], 20, histtype='stepfilled', \n",
    "           color='r', alpha=0.5, label='North')\n",
    "ax[1].legend()\n",
    "\n",
    "ax[0].set_ylabel('Latitude [deg]')\n",
    "ax[1].set(ylabel='Frequency', xlabel='Spot amplitude $\\Delta F/F$')\n",
    "\n",
    "plt.show()"
   ]
  },
  {
   "cell_type": "markdown",
   "metadata": {},
   "source": [
    "***\n",
    "\n",
    "## Repeat the above analysis for the Sun:"
   ]
  },
  {
   "cell_type": "code",
   "execution_count": null,
   "metadata": {
    "collapsed": false
   },
   "outputs": [],
   "source": [
    "paths = glob('/local/tmp/Mt_Wilson_Tilt/*/sspot??.dat')\n",
    "\n",
    "from astropy.time import Time\n",
    "import astropy.units as u\n",
    "from astropy.table import Table\n",
    "\n",
    "def split_interval(string, n, cast_to_type=float):\n",
    "    return [cast_to_type(string[i:i+n]) for i in range(0, len(string), n)]\n",
    "\n",
    "all_years_array = []\n",
    "\n",
    "header = (\"jd n_spots_leading n_spots_following n_spots_day_1 n_spots_day_2 \"\n",
    "          \"rotation_rate latitude_drift latitude_day_1 latitude_day_2 longitude_day_1 \"\n",
    "          \"longitude_day_2 area_day_1 area_day_2 group_latitude_day_1 group_longitude_day_1 \"\n",
    "          \"group_area_day_1 group_area_day_2 polarity_day_1 polarity_change tilt_day_1 tilt_day_2 \"\n",
    "          \"group_rotation_rate group_latitude_drift\").split()\n",
    "\n",
    "for path in paths:\n",
    "    f = open(path).read().splitlines()\n",
    "\n",
    "    n_rows = len(f) // 3\n",
    "    n_columns = 23#18\n",
    "    yearly_array = np.zeros((n_rows, n_columns))\n",
    "\n",
    "    for i in range(n_rows):\n",
    "        # First five ints specify time, afterwards specify sunspot data\n",
    "        int_list = split_interval(f[0+i*3][:18], 2, int)\n",
    "        month, day, year_minus_1900, hour, minute = int_list[:5]\n",
    "        year = year_minus_1900 + 1900\n",
    "        jd = Time(\"{year:d}-{month:02d}-{day:02d} {hour:02d}:{minute:02d}\"\n",
    "                  .format(**locals())).jd\n",
    "        row = [jd] + int_list[5:] + split_interval(f[1+i*3], 7) + split_interval(f[2+i*3][1:], 7)\n",
    "        yearly_array[i, :] = row\n",
    "\n",
    "    all_years_array.append(yearly_array)\n",
    "\n",
    "table = Table(np.vstack(all_years_array), names=header)"
   ]
  },
  {
   "cell_type": "code",
   "execution_count": null,
   "metadata": {
    "collapsed": false
   },
   "outputs": [],
   "source": [
    "from sklearn.mixture import GMM\n",
    "\n",
    "X = np.atleast_2d(table['latitude_day_1']).T\n",
    "\n",
    "fig, ax = plt.subplots()\n",
    "M_best = GMM(2).fit(X)#models[np.argmin(AIC)]\n",
    "\n",
    "x = np.atleast_2d(np.linspace(-60, 60, 1000)).T\n",
    "# logprob, responsibilities = M_best.eval(x)\n",
    "logprob = M_best.score(x)\n",
    "responsibilities = M_best.predict_proba(x)\n",
    "\n",
    "pdf = np.exp(logprob)\n",
    "pdf_individual = responsibilities * pdf[:, np.newaxis]\n",
    "\n",
    "ax.hist(X, 30, normed=True, histtype='stepfilled', alpha=0.4)\n",
    "ax.plot(x, pdf, '-k')\n",
    "ax.plot(x, pdf_individual, '--k')\n",
    "ax.text(0.04, 0.96, \"Best-fit Mixture\",\n",
    "        ha='left', va='top', transform=ax.transAxes)\n",
    "ax.set_xlabel('$x$')\n",
    "ax.set_ylabel('$p(x)$')"
   ]
  },
  {
   "cell_type": "code",
   "execution_count": null,
   "metadata": {
    "collapsed": false
   },
   "outputs": [],
   "source": [
    "ndim, nwalkers = len(initp), 4*len(initp)\n",
    "p0 = [np.array(initp) + 1e-3*np.random.randn(ndim) for i in range(nwalkers)]\n",
    "sampler_sun = emcee.EnsembleSampler(nwalkers, ndim, lnprob, \n",
    "                                args=(table['latitude_day_1'], np.ones_like(table['latitude_day_1'])),\n",
    "                                threads=4)\n",
    "\n",
    "pos = sampler_sun.run_mcmc(p0, 500)[0]\n",
    "sampler_sun.reset()\n",
    "p0 = sampler_sun.run_mcmc(pos, 5000)"
   ]
  },
  {
   "cell_type": "code",
   "execution_count": null,
   "metadata": {
    "collapsed": true
   },
   "outputs": [],
   "source": [
    "burnin = 1000\n",
    "samples_sun = sampler_sun.chain[:, burnin:, :].reshape((-1, ndim))\n",
    "\n",
    "import corner \n",
    "\n",
    "# a1, m1, v1, a2, m2, v2\n",
    "labels = \"a1, mean_latitude, lnv1, lnv2, new_i_s\".split(', ')\n",
    "fig = corner.corner(samples_sun, labels=labels)"
   ]
  },
  {
   "cell_type": "code",
   "execution_count": null,
   "metadata": {
    "collapsed": true
   },
   "outputs": [],
   "source": []
  },
  {
   "cell_type": "code",
   "execution_count": null,
   "metadata": {
    "collapsed": true
   },
   "outputs": [],
   "source": []
  }
 ],
 "metadata": {
  "kernelspec": {
   "display_name": "Python 3",
   "language": "python",
   "name": "python3"
  },
  "language_info": {
   "codemirror_mode": {
    "name": "ipython",
    "version": 3
   },
   "file_extension": ".py",
   "mimetype": "text/x-python",
   "name": "python",
   "nbconvert_exporter": "python",
   "pygments_lexer": "ipython3",
   "version": "3.5.1"
  }
 },
 "nbformat": 4,
 "nbformat_minor": 0
}
